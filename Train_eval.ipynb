{
 "cells": [
  {
   "cell_type": "code",
   "execution_count": 22,
   "id": "4b63147d-1ee3-457b-8a6c-50364389c645",
   "metadata": {
    "tags": []
   },
   "outputs": [
    {
     "name": "stderr",
     "output_type": "stream",
     "text": [
      "/apps/pytorch/2.2.0/lib/python3.10/site-packages/torchvision/models/_utils.py:208: UserWarning: The parameter 'pretrained' is deprecated since 0.13 and may be removed in the future, please use 'weights' instead.\n",
      "  warnings.warn(\n",
      "/apps/pytorch/2.2.0/lib/python3.10/site-packages/torchvision/models/_utils.py:223: UserWarning: Arguments other than a weight enum or `None` for 'weights' are deprecated since 0.13 and may be removed in the future. The current behavior is equivalent to passing `weights=ResNet18_Weights.IMAGENET1K_V1`. You can also use `weights=ResNet18_Weights.DEFAULT` to get the most up-to-date weights.\n",
      "  warnings.warn(msg)\n"
     ]
    }
   ],
   "source": [
    "import torch\n",
    "import torch.nn as nn\n",
    "import torch.optim as optim\n",
    "from torch.utils.data import DataLoader, random_split, WeightedRandomSampler\n",
    "from torchvision import datasets, transforms, models\n",
    "from sklearn.metrics import accuracy_score\n",
    "import numpy as np\n",
    "from PIL import ImageFile\n",
    "ImageFile.LOAD_TRUNCATED_IMAGES = True\n",
    "\n",
    "# Define device\n",
    "device = torch.device(\"cuda\" if torch.cuda.is_available() else \"cpu\")\n",
    "\n",
    "# Define data transformation\n",
    "data_transforms = transforms.Compose([\n",
    "    transforms.Resize((224, 224)),  # Resize images to fit ResNet input\n",
    "    transforms.ToTensor(),\n",
    "    transforms.Normalize([0.485, 0.456, 0.406], [0.229, 0.224, 0.225])  # Standard ResNet normalization\n",
    "])\n",
    "\n",
    "# Load dataset\n",
    "dataset = datasets.ImageFolder(root='/blue/pinaki.sarder/harishwarreddy.k/public/data', transform=data_transforms)\n",
    "\n",
    "# Split dataset into train, val, and test sets\n",
    "train_size = int(0.7 * len(dataset))\n",
    "val_size = int(0.15 * len(dataset))\n",
    "test_size = len(dataset) - train_size - val_size\n",
    "train_set, val_set, test_set = random_split(dataset, [train_size, val_size, test_size])\n",
    "# Create a WeightedRandomSampler only for the train_set after splitting\n",
    "train_sampler = WeightedRandomSampler(\n",
    "    weights=[class_weights[label] for _, label in train_set],\n",
    "    num_samples=len(train_set),\n",
    "    replacement=True\n",
    ")\n",
    "\n",
    "train_loader = DataLoader(train_set, batch_size=32, sampler=train_sampler, num_workers=4)\n",
    "val_loader = DataLoader(val_set, batch_size=32, shuffle=False, num_workers=4)\n",
    "test_loader = DataLoader(test_set, batch_size=32, shuffle=False, num_workers=4)\n",
    "\n",
    "# Load a pre-trained ResNet model\n",
    "model = models.resnet18(pretrained=True)\n",
    "model.fc = nn.Linear(model.fc.in_features, 2)  # Modify final layer for binary classification\n",
    "model = model.to(device)\n",
    "\n",
    "# Define loss function with class weights\n",
    "criterion = nn.CrossEntropyLoss(weight=class_weights.to(device))\n",
    "optimizer = optim.Adam(model.parameters(), lr=0.001)"
   ]
  },
  {
   "cell_type": "code",
   "execution_count": 23,
   "id": "13ba66ce-9896-4687-8efe-e8b5f1b5d809",
   "metadata": {
    "tags": []
   },
   "outputs": [],
   "source": [
    "# Training function\n",
    "def train(model, loader):\n",
    "    model.train()\n",
    "    running_loss = 0.0\n",
    "    for images, labels in loader:\n",
    "        images, labels = images.to(device), labels.to(device)\n",
    "        optimizer.zero_grad()\n",
    "        outputs = model(images)\n",
    "        loss = criterion(outputs, labels)\n",
    "        loss.backward()\n",
    "        optimizer.step()\n",
    "        running_loss += loss.item() * images.size(0)\n",
    "    return running_loss / len(loader.dataset)\n",
    "\n",
    "# Validation function\n",
    "def validate(model, loader):\n",
    "    model.eval()\n",
    "    running_loss = 0.0\n",
    "    all_labels = []\n",
    "    all_preds = []\n",
    "    with torch.no_grad():\n",
    "        for images, labels in loader:\n",
    "            images, labels = images.to(device), labels.to(device)\n",
    "            outputs = model(images)\n",
    "            loss = criterion(outputs, labels)\n",
    "            running_loss += loss.item() * images.size(0)\n",
    "            _, preds = torch.max(outputs, 1)\n",
    "            all_labels.extend(labels.cpu().numpy())\n",
    "            all_preds.extend(preds.cpu().numpy())\n",
    "    accuracy = accuracy_score(all_labels, all_preds)\n",
    "    return running_loss / len(loader.dataset), accuracy\n",
    "\n",
    "\n"
   ]
  },
  {
   "cell_type": "code",
   "execution_count": 24,
   "id": "4a35ac96-d4ec-4aff-97c2-6614a5dc0a6c",
   "metadata": {
    "tags": []
   },
   "outputs": [
    {
     "name": "stdout",
     "output_type": "stream",
     "text": [
      "Epoch 1/20, Train Loss: 0.1235, Val Loss: 0.0443, Val Acc: 0.9798\n",
      "New best model saved with accuracy: 0.9798\n",
      "Epoch 2/20, Train Loss: 0.0479, Val Loss: 0.0913, Val Acc: 0.9451\n",
      "Epoch 3/20, Train Loss: 0.0344, Val Loss: 0.0888, Val Acc: 0.9581\n",
      "Epoch 4/20, Train Loss: 0.0271, Val Loss: 0.0531, Val Acc: 0.9798\n",
      "Epoch 5/20, Train Loss: 0.0236, Val Loss: 0.0141, Val Acc: 0.9928\n",
      "New best model saved with accuracy: 0.9928\n",
      "Epoch 6/20, Train Loss: 0.0308, Val Loss: 0.5315, Val Acc: 0.8049\n",
      "Epoch 7/20, Train Loss: 0.0249, Val Loss: 0.0669, Val Acc: 0.9754\n",
      "Epoch 8/20, Train Loss: 0.0194, Val Loss: 0.0166, Val Acc: 0.9957\n",
      "New best model saved with accuracy: 0.9957\n",
      "Epoch 9/20, Train Loss: 0.0104, Val Loss: 0.0293, Val Acc: 0.9884\n",
      "Epoch 10/20, Train Loss: 0.0035, Val Loss: 0.0523, Val Acc: 0.9884\n",
      "Epoch 11/20, Train Loss: 0.0198, Val Loss: 0.1315, Val Acc: 0.9639\n",
      "Epoch 12/20, Train Loss: 0.0055, Val Loss: 0.1783, Val Acc: 0.9697\n",
      "Epoch 13/20, Train Loss: 0.0159, Val Loss: 0.0349, Val Acc: 0.9812\n",
      "Epoch 14/20, Train Loss: 0.0051, Val Loss: 0.0484, Val Acc: 0.9899\n",
      "Epoch 15/20, Train Loss: 0.0050, Val Loss: 0.2708, Val Acc: 0.9740\n",
      "Epoch 16/20, Train Loss: 0.0380, Val Loss: 0.1031, Val Acc: 0.9870\n",
      "Epoch 17/20, Train Loss: 0.0080, Val Loss: 0.0243, Val Acc: 0.9913\n",
      "Epoch 18/20, Train Loss: 0.0076, Val Loss: 0.0491, Val Acc: 0.9899\n",
      "Epoch 19/20, Train Loss: 0.0045, Val Loss: 0.1931, Val Acc: 0.9740\n",
      "Epoch 20/20, Train Loss: 0.0079, Val Loss: 0.0307, Val Acc: 0.9899\n"
     ]
    }
   ],
   "source": [
    "# Training loop with validation for early stopping/fine-tuning\n",
    "num_epochs = 20\n",
    "best_val_acc = 0.0\n",
    "for epoch in range(num_epochs):\n",
    "    train_loss = train(model, train_loader)\n",
    "    val_loss, val_acc = validate(model, val_loader)\n",
    "    print(f\"Epoch {epoch+1}/{num_epochs}, Train Loss: {train_loss:.4f}, Val Loss: {val_loss:.4f}, Val Acc: {val_acc:.4f}\")\n",
    "\n",
    "    # Save best model\n",
    "    if val_acc > best_val_acc:\n",
    "        best_val_acc = val_acc\n",
    "        torch.save(model.state_dict(), 'best_model.pth')\n",
    "        print(f\"New best model saved with accuracy: {best_val_acc:.4f}\")\n"
   ]
  },
  {
   "cell_type": "code",
   "execution_count": 25,
   "id": "18c49d69-1525-4c26-acfb-5dc302c51a88",
   "metadata": {
    "tags": []
   },
   "outputs": [
    {
     "data": {
      "image/png": "[encoded data removed]",
      "text/plain": [
       "<Figure size 800x600 with 2 Axes>"
      ]
     },
     "metadata": {},
     "output_type": "display_data"
    }
   ],
   "source": [
    "import seaborn as sns\n",
    "import matplotlib.pyplot as plt\n",
    "from sklearn.metrics import confusion_matrix\n",
    "import torch\n",
    "\n",
    "# Define the test function to generate predictions and plot confusion matrix\n",
    "def test_and_confusion_matrix(model, loader):\n",
    "    model.eval()\n",
    "    all_labels = []\n",
    "    all_preds = []\n",
    "    with torch.no_grad():\n",
    "        for images, labels in loader:\n",
    "            images, labels = images.to(device), labels.to(device)\n",
    "            outputs = model(images)\n",
    "            _, preds = torch.max(outputs, 1)\n",
    "            all_labels.extend(labels.cpu().numpy())\n",
    "            all_preds.extend(preds.cpu().numpy())\n",
    "\n",
    "    # Compute confusion matrix\n",
    "    cm = confusion_matrix(all_labels, all_preds)\n",
    "\n",
    "    # Plot the confusion matrix using seaborn\n",
    "    plt.figure(figsize=(8, 6))\n",
    "    sns.heatmap(cm, annot=True, fmt=\"d\", cmap=\"Blues\", xticklabels=dataset.classes, yticklabels=dataset.classes)\n",
    "    plt.xlabel(\"Predicted Labels\")\n",
    "    plt.ylabel(\"True Labels\")\n",
    "    plt.title(\"Confusion Matrix\")\n",
    "    # Save the plot\n",
    "    plt.savefig(\"confusion_matrix.png\")\n",
    "    plt.show()\n",
    "\n",
    "# Load best model for testing and generate the confusion matrix\n",
    "model.load_state_dict(torch.load('best_model.pth'))\n",
    "test_and_confusion_matrix(model, test_loader)"
   ]
  }
 ],
 "metadata": {
  "kernelspec": {
   "display_name": "PyTorch-2.2.0",
   "language": "python",
   "name": "pytorch-2.2.0"
  },
  "language_info": {
   "codemirror_mode": {
    "name": "ipython",
    "version": 3
   },
   "file_extension": ".py",
   "mimetype": "text/x-python",
   "name": "python",
   "nbconvert_exporter": "python",
   "pygments_lexer": "ipython3",
   "version": "3.10.13"
  }
 },
 "nbformat": 4,
 "nbformat_minor": 5
}
